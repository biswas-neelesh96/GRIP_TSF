{
  "nbformat": 4,
  "nbformat_minor": 0,
  "metadata": {
    "colab": {
      "name": "GRIP_Task1",
      "provenance": [],
      "collapsed_sections": []
    },
    "kernelspec": {
      "name": "python3",
      "display_name": "Python 3"
    }
  },
  "cells": [
    {
      "cell_type": "markdown",
      "metadata": {
        "id": "QqcR8x7Fnms5"
      },
      "source": [
        "Author: **Neelesh Biswas**"
      ]
    },
    {
      "cell_type": "markdown",
      "metadata": {
        "id": "Y21y91xwylfx"
      },
      "source": [
        "This Jupyter Notebook is used as a part of GRIP (Graduate Rotational Internship Program) by **The Sparks Foundation**"
      ]
    },
    {
      "cell_type": "markdown",
      "metadata": {
        "id": "QkKLz5Oenyc0"
      },
      "source": [
        "## **Task 1**: Prediction using Supervised ML (Level - Beginner)"
      ]
    },
    {
      "cell_type": "markdown",
      "metadata": {
        "id": "lkMclIpLpAHt"
      },
      "source": [
        "In this task, we used a simple linear regression model to calculate the percentage of marks expected from a student based upon no. of hours he/she studied.\n",
        "\n",
        "#**What is Linear Regression?**\n",
        "\n",
        "In statistics, Linear Regression is a process which is used to model a relationship between two variables, namely: **Explanatory** & **Dependent** variables. \n",
        "\n",
        "As the name suggests, Linear Regression is used by fitting the standard form equation of linear equation, i.e\n",
        "#Y=mX+c\n",
        "\n",
        "where,\n",
        "\n",
        "X=Dependent Variable\n",
        "\n",
        "Y=Explanatory Variable\n",
        "\n",
        "m=Slope of the line \n",
        "\n",
        "c=Intercept"
      ]
    },
    {
      "cell_type": "markdown",
      "metadata": {
        "id": "Gb2vzoH2vhus"
      },
      "source": [
        "**Step 1:** Import libraries & dataset"
      ]
    },
    {
      "cell_type": "code",
      "metadata": {
        "id": "5zO7hnvs2w8c",
        "outputId": "aa627b0a-dda2-47d6-c251-72be93790603",
        "colab": {
          "base_uri": "https://localhost:8080/",
          "height": 34
        }
      },
      "source": [
        "#import libraries\n",
        "import pandas as pd\n",
        "import numpy as np\n",
        "import matplotlib.pyplot as plt\n",
        "import seaborn as sns\n",
        "%matplotlib inline\n",
        "print(\"Setup Complete\")"
      ],
      "execution_count": 15,
      "outputs": [
        {
          "output_type": "stream",
          "text": [
            "Setup Complete\n"
          ],
          "name": "stdout"
        }
      ]
    },
    {
      "cell_type": "code",
      "metadata": {
        "id": "DLKhL36f5dex",
        "outputId": "aef64549-eaa1-4a00-891c-1d4591e31691",
        "colab": {
          "base_uri": "https://localhost:8080/",
          "height": 204
        }
      },
      "source": [
        "#import dataset\n",
        "link= \"https://raw.githubusercontent.com/AdiPersonalWorks/Random/master/student_scores%20-%20student_scores.csv\"\n",
        "data=pd.read_csv(link)\n",
        "data.tail()"
      ],
      "execution_count": 16,
      "outputs": [
        {
          "output_type": "execute_result",
          "data": {
            "text/html": [
              "<div>\n",
              "<style scoped>\n",
              "    .dataframe tbody tr th:only-of-type {\n",
              "        vertical-align: middle;\n",
              "    }\n",
              "\n",
              "    .dataframe tbody tr th {\n",
              "        vertical-align: top;\n",
              "    }\n",
              "\n",
              "    .dataframe thead th {\n",
              "        text-align: right;\n",
              "    }\n",
              "</style>\n",
              "<table border=\"1\" class=\"dataframe\">\n",
              "  <thead>\n",
              "    <tr style=\"text-align: right;\">\n",
              "      <th></th>\n",
              "      <th>Hours</th>\n",
              "      <th>Scores</th>\n",
              "    </tr>\n",
              "  </thead>\n",
              "  <tbody>\n",
              "    <tr>\n",
              "      <th>20</th>\n",
              "      <td>2.7</td>\n",
              "      <td>30</td>\n",
              "    </tr>\n",
              "    <tr>\n",
              "      <th>21</th>\n",
              "      <td>4.8</td>\n",
              "      <td>54</td>\n",
              "    </tr>\n",
              "    <tr>\n",
              "      <th>22</th>\n",
              "      <td>3.8</td>\n",
              "      <td>35</td>\n",
              "    </tr>\n",
              "    <tr>\n",
              "      <th>23</th>\n",
              "      <td>6.9</td>\n",
              "      <td>76</td>\n",
              "    </tr>\n",
              "    <tr>\n",
              "      <th>24</th>\n",
              "      <td>7.8</td>\n",
              "      <td>86</td>\n",
              "    </tr>\n",
              "  </tbody>\n",
              "</table>\n",
              "</div>"
            ],
            "text/plain": [
              "    Hours  Scores\n",
              "20    2.7      30\n",
              "21    4.8      54\n",
              "22    3.8      35\n",
              "23    6.9      76\n",
              "24    7.8      86"
            ]
          },
          "metadata": {
            "tags": []
          },
          "execution_count": 16
        }
      ]
    },
    {
      "cell_type": "markdown",
      "metadata": {
        "id": "ol94xbrpvuOM"
      },
      "source": [
        "**Step 2:** Plot the relationship using the dataset."
      ]
    },
    {
      "cell_type": "code",
      "metadata": {
        "id": "s7je7pI96Hnk",
        "outputId": "053f8aba-f927-4705-fd67-dab1c19616f2",
        "colab": {
          "base_uri": "https://localhost:8080/",
          "height": 421
        }
      },
      "source": [
        "#plot the graph using the dataset\n",
        "plt.figure(figsize=(16,6))\n",
        "plt.title(\"Study track record of a student \")\n",
        "plt.xlabel(\"Hours\")\n",
        "plt.ylabel('Percentage')\n",
        "sns.scatterplot(x=data['Hours'], y=data['Scores'])"
      ],
      "execution_count": 17,
      "outputs": [
        {
          "output_type": "execute_result",
          "data": {
            "text/plain": [
              "<matplotlib.axes._subplots.AxesSubplot at 0x7febb23c3048>"
            ]
          },
          "metadata": {
            "tags": []
          },
          "execution_count": 17
        },
        {
          "output_type": "display_data",
          "data": {
            "image/png": "[encoded data removed]",
            "text/plain": [
              "<Figure size 1152x432 with 1 Axes>"
            ]
          },
          "metadata": {
            "tags": [],
            "needs_background": "light"
          }
        }
      ]
    },
    {
      "cell_type": "markdown",
      "metadata": {
        "id": "_mcM1KE6wDEM"
      },
      "source": [
        "**Step 3:** Preparing Data "
      ]
    },
    {
      "cell_type": "code",
      "metadata": {
        "id": "Dr1eQXz58QFX"
      },
      "source": [
        "#Divide the dataset into attributes (Inputs) and labels (Outputs)\n",
        "X=data.iloc[:,:-1].values\n",
        "y=data.iloc[:,1].values"
      ],
      "execution_count": 18,
      "outputs": []
    },
    {
      "cell_type": "code",
      "metadata": {
        "id": "ph_kE6zP855r"
      },
      "source": [
        "#Split the dataset into training and test sets\n",
        "from sklearn.model_selection import train_test_split  \n",
        "X_train, X_test, y_train, y_test = train_test_split(X, y, \n",
        "                            test_size=0.2, random_state=0) "
      ],
      "execution_count": 19,
      "outputs": []
    },
    {
      "cell_type": "markdown",
      "metadata": {
        "id": "wCTRYWrkws7l"
      },
      "source": [
        "**Step 4:** Fitting the model"
      ]
    },
    {
      "cell_type": "code",
      "metadata": {
        "id": "pPlwJ3S_9yTa",
        "outputId": "20bf3ff4-4bdd-4f04-979e-c55566bf5f04",
        "colab": {
          "base_uri": "https://localhost:8080/",
          "height": 34
        }
      },
      "source": [
        "from sklearn.linear_model import LinearRegression\n",
        "reg=LinearRegression()  \n",
        "reg.fit(X_train,y_train)\n",
        "print(\"Training Complete\")"
      ],
      "execution_count": 20,
      "outputs": [
        {
          "output_type": "stream",
          "text": [
            "Training Complete\n"
          ],
          "name": "stdout"
        }
      ]
    },
    {
      "cell_type": "code",
      "metadata": {
        "id": "7d0Ohbht-YtN",
        "outputId": "24a35524-592b-43de-e1a6-0df022a095bf",
        "colab": {
          "base_uri": "https://localhost:8080/",
          "height": 404
        }
      },
      "source": [
        "#plotting the regression line\n",
        "plt.figure(figsize=(16,6))\n",
        "line=reg.coef_*X+reg.intercept_\n",
        "plt.title(\"Study Track Record With Linear Regression Model\")\n",
        "plt.xlabel(\"Hours\")\n",
        "plt.ylabel(\"Percentage\")\n",
        "plt.scatter(X,y,c=\"red\")\n",
        "plt.plot(X,line, c=\"green\")\n",
        "plt.show()"
      ],
      "execution_count": 21,
      "outputs": [
        {
          "output_type": "display_data",
          "data": {
            "image/png": "[encoded data removed]",
            "text/plain": [
              "<Figure size 1152x432 with 1 Axes>"
            ]
          },
          "metadata": {
            "tags": [],
            "needs_background": "light"
          }
        }
      ]
    },
    {
      "cell_type": "markdown",
      "metadata": {
        "id": "t58F5y-SxTVU"
      },
      "source": [
        "**Step 5:** Predicting the Scores & Comparing Actual Vs Predicted Scores"
      ]
    },
    {
      "cell_type": "code",
      "metadata": {
        "id": "yA7Ysos0_Ige",
        "outputId": "896d11ed-10bc-4a05-eec1-959c2103026c",
        "colab": {
          "base_uri": "https://localhost:8080/",
          "height": 102
        }
      },
      "source": [
        "#predicting scores\n",
        "print(X_test)\n",
        "y_pred=reg.predict(X_test)"
      ],
      "execution_count": 22,
      "outputs": [
        {
          "output_type": "stream",
          "text": [
            "[[1.5]\n",
            " [3.2]\n",
            " [7.4]\n",
            " [2.5]\n",
            " [5.9]]\n"
          ],
          "name": "stdout"
        }
      ]
    },
    {
      "cell_type": "code",
      "metadata": {
        "id": "IIfWebg0AdZe",
        "outputId": "0d36a473-af8f-4fed-e1eb-abf47b8fcc5b",
        "colab": {
          "base_uri": "https://localhost:8080/",
          "height": 204
        }
      },
      "source": [
        "#Comparing Actual Vs Predicted Values by creating a Dataset\n",
        "data2={'Actual':y_test,'Predicted':y_pred}\n",
        "df=pd.DataFrame(data2)\n",
        "df"
      ],
      "execution_count": 23,
      "outputs": [
        {
          "output_type": "execute_result",
          "data": {
            "text/html": [
              "<div>\n",
              "<style scoped>\n",
              "    .dataframe tbody tr th:only-of-type {\n",
              "        vertical-align: middle;\n",
              "    }\n",
              "\n",
              "    .dataframe tbody tr th {\n",
              "        vertical-align: top;\n",
              "    }\n",
              "\n",
              "    .dataframe thead th {\n",
              "        text-align: right;\n",
              "    }\n",
              "</style>\n",
              "<table border=\"1\" class=\"dataframe\">\n",
              "  <thead>\n",
              "    <tr style=\"text-align: right;\">\n",
              "      <th></th>\n",
              "      <th>Actual</th>\n",
              "      <th>Predicted</th>\n",
              "    </tr>\n",
              "  </thead>\n",
              "  <tbody>\n",
              "    <tr>\n",
              "      <th>0</th>\n",
              "      <td>20</td>\n",
              "      <td>16.884145</td>\n",
              "    </tr>\n",
              "    <tr>\n",
              "      <th>1</th>\n",
              "      <td>27</td>\n",
              "      <td>33.732261</td>\n",
              "    </tr>\n",
              "    <tr>\n",
              "      <th>2</th>\n",
              "      <td>69</td>\n",
              "      <td>75.357018</td>\n",
              "    </tr>\n",
              "    <tr>\n",
              "      <th>3</th>\n",
              "      <td>30</td>\n",
              "      <td>26.794801</td>\n",
              "    </tr>\n",
              "    <tr>\n",
              "      <th>4</th>\n",
              "      <td>62</td>\n",
              "      <td>60.491033</td>\n",
              "    </tr>\n",
              "  </tbody>\n",
              "</table>\n",
              "</div>"
            ],
            "text/plain": [
              "   Actual  Predicted\n",
              "0      20  16.884145\n",
              "1      27  33.732261\n",
              "2      69  75.357018\n",
              "3      30  26.794801\n",
              "4      62  60.491033"
            ]
          },
          "metadata": {
            "tags": []
          },
          "execution_count": 23
        }
      ]
    },
    {
      "cell_type": "code",
      "metadata": {
        "id": "8-vMWo-ICcV-",
        "outputId": "7ff8753b-517d-410b-c747-85aef0b6ffaf",
        "colab": {
          "base_uri": "https://localhost:8080/",
          "height": 51
        }
      },
      "source": [
        "#Testing with our input data\n",
        "hrs=np.array(9.25).reshape(-1,1)\n",
        "my_pred=reg.predict(hrs)\n",
        "print(\"No of Hours = {}\".format(hrs[0][0]))\n",
        "print(\"Predicted Score = {}\".format(my_pred[0]))"
      ],
      "execution_count": 24,
      "outputs": [
        {
          "output_type": "stream",
          "text": [
            "No of Hours = 9.25\n",
            "Predicted Score = 93.69173248737539\n"
          ],
          "name": "stdout"
        }
      ]
    },
    {
      "cell_type": "markdown",
      "metadata": {
        "id": "MGrff0zWyTX4"
      },
      "source": [
        "**Step 6:** Accuracy of the Model by calculating MAE (Mean Absolute Error)"
      ]
    },
    {
      "cell_type": "code",
      "metadata": {
        "id": "-RAt_ZrWFyzy",
        "outputId": "aa090b37-ad39-4ca4-b02a-053e06cee968",
        "colab": {
          "base_uri": "https://localhost:8080/",
          "height": 34
        }
      },
      "source": [
        "#Calculating MAE\n",
        "from sklearn import metrics  \n",
        "print('Mean Absolute Error:', \n",
        "      metrics.mean_absolute_error(y_test, y_pred)) "
      ],
      "execution_count": 25,
      "outputs": [
        {
          "output_type": "stream",
          "text": [
            "Mean Absolute Error: 4.183859899002982\n"
          ],
          "name": "stdout"
        }
      ]
    }
  ]
}