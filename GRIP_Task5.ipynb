{
  "nbformat": 4,
  "nbformat_minor": 0,
  "metadata": {
    "colab": {
      "name": "GRIP_Task5.ipynb",
      "provenance": [],
      "toc_visible": true,
      "authorship_tag": "ABX9TyPNzcm8Ri3R2tpFhSA21uvI",
      "include_colab_link": true
    },
    "kernelspec": {
      "name": "python3",
      "display_name": "Python 3"
    }
  },
  "cells": [
    {
      "cell_type": "markdown",
      "metadata": {
        "id": "view-in-github",
        "colab_type": "text"
      },
      "source": [
        "<a href=\"https://colab.research.google.com/github/biswas-neelesh96/GRIP_TSF/blob/main/GRIP_Task5.ipynb\" target=\"_parent\"><img src=\"https://colab.research.google.com/assets/colab-badge.svg\" alt=\"Open In Colab\"/></a>"
      ]
    },
    {
      "cell_type": "markdown",
      "metadata": {
        "id": "txmrIYe3xzHb"
      },
      "source": [
        "Author: **Neelesh Biswas**"
      ]
    },
    {
      "cell_type": "markdown",
      "metadata": {
        "id": "7gS45O8Vyht-"
      },
      "source": [
        "This Jupyter Notebook is used as a part of GRIP (Graduate Rotational Internship Program) by **The Sparks Foundation**"
      ]
    },
    {
      "cell_type": "markdown",
      "metadata": {
        "id": "RjDNzhLaynGM"
      },
      "source": [
        "# **Task 5**: To Explore Business Analytics (Level - Beginner & Intermediate)"
      ]
    },
    {
      "cell_type": "markdown",
      "metadata": {
        "id": "-Eqvasbezasx"
      },
      "source": [
        "In this task, as a business managaer, I tried to find out the strong & weak areas where we'll have to work to make more profit."
      ]
    },
    {
      "cell_type": "markdown",
      "metadata": {
        "id": "h0pt9t5xuRov"
      },
      "source": [
        "**This task is divided into three parts:**\n",
        "\n",
        "1) Understanding of Sales, Profit in terms of **Category, Shipping Mode, Segment & Region.**\n",
        "\n",
        "2) Top 5 Products & Cities in terms of **Sales & Profit.**\n",
        "\n",
        "3) Least 5 Products & Cities in terms of **Sales & Profit.**"
      ]
    },
    {
      "cell_type": "markdown",
      "metadata": {
        "id": "789UgJ4kv2gV"
      },
      "source": [
        "**Step 1**: Import Libraries & Dataset and statistical info of the data."
      ]
    },
    {
      "cell_type": "code",
      "metadata": {
        "id": "1B1N3-6pFGW6",
        "outputId": "d1238aa6-6d87-42f4-c020-9e4d61a2480c",
        "colab": {
          "base_uri": "https://localhost:8080/",
          "height": 34
        }
      },
      "source": [
        "#import libraries\n",
        "import numpy as np\n",
        "import matplotlib.pyplot as plt\n",
        "import pandas as pd\n",
        "import seaborn as sns\n",
        "print(\"Setup Complete\")"
      ],
      "execution_count": 1,
      "outputs": [
        {
          "output_type": "stream",
          "text": [
            "Setup Complete\n"
          ],
          "name": "stdout"
        }
      ]
    },
    {
      "cell_type": "code",
      "metadata": {
        "id": "4x3k77S9Fnj3",
        "outputId": "d294dc0a-d5b5-40e7-a4a7-4ca955eceacb",
        "colab": {
          "base_uri": "https://localhost:8080/",
          "height": 326
        }
      },
      "source": [
        "#import the dataset\n",
        "store_data = pd.read_csv('SampleSuperstore.csv')\n",
        "store_data.head()"
      ],
      "execution_count": 2,
      "outputs": [
        {
          "output_type": "execute_result",
          "data": {
            "text/html": [
              "<div>\n",
              "<style scoped>\n",
              "    .dataframe tbody tr th:only-of-type {\n",
              "        vertical-align: middle;\n",
              "    }\n",
              "\n",
              "    .dataframe tbody tr th {\n",
              "        vertical-align: top;\n",
              "    }\n",
              "\n",
              "    .dataframe thead th {\n",
              "        text-align: right;\n",
              "    }\n",
              "</style>\n",
              "<table border=\"1\" class=\"dataframe\">\n",
              "  <thead>\n",
              "    <tr style=\"text-align: right;\">\n",
              "      <th></th>\n",
              "      <th>Ship Mode</th>\n",
              "      <th>Segment</th>\n",
              "      <th>Country</th>\n",
              "      <th>City</th>\n",
              "      <th>State</th>\n",
              "      <th>Postal Code</th>\n",
              "      <th>Region</th>\n",
              "      <th>Category</th>\n",
              "      <th>Sub-Category</th>\n",
              "      <th>Sales</th>\n",
              "      <th>Quantity</th>\n",
              "      <th>Discount</th>\n",
              "      <th>Profit</th>\n",
              "    </tr>\n",
              "  </thead>\n",
              "  <tbody>\n",
              "    <tr>\n",
              "      <th>0</th>\n",
              "      <td>Second Class</td>\n",
              "      <td>Consumer</td>\n",
              "      <td>United States</td>\n",
              "      <td>Henderson</td>\n",
              "      <td>Kentucky</td>\n",
              "      <td>42420</td>\n",
              "      <td>South</td>\n",
              "      <td>Furniture</td>\n",
              "      <td>Bookcases</td>\n",
              "      <td>261.9600</td>\n",
              "      <td>2</td>\n",
              "      <td>0.00</td>\n",
              "      <td>41.9136</td>\n",
              "    </tr>\n",
              "    <tr>\n",
              "      <th>1</th>\n",
              "      <td>Second Class</td>\n",
              "      <td>Consumer</td>\n",
              "      <td>United States</td>\n",
              "      <td>Henderson</td>\n",
              "      <td>Kentucky</td>\n",
              "      <td>42420</td>\n",
              "      <td>South</td>\n",
              "      <td>Furniture</td>\n",
              "      <td>Chairs</td>\n",
              "      <td>731.9400</td>\n",
              "      <td>3</td>\n",
              "      <td>0.00</td>\n",
              "      <td>219.5820</td>\n",
              "    </tr>\n",
              "    <tr>\n",
              "      <th>2</th>\n",
              "      <td>Second Class</td>\n",
              "      <td>Corporate</td>\n",
              "      <td>United States</td>\n",
              "      <td>Los Angeles</td>\n",
              "      <td>California</td>\n",
              "      <td>90036</td>\n",
              "      <td>West</td>\n",
              "      <td>Office Supplies</td>\n",
              "      <td>Labels</td>\n",
              "      <td>14.6200</td>\n",
              "      <td>2</td>\n",
              "      <td>0.00</td>\n",
              "      <td>6.8714</td>\n",
              "    </tr>\n",
              "    <tr>\n",
              "      <th>3</th>\n",
              "      <td>Standard Class</td>\n",
              "      <td>Consumer</td>\n",
              "      <td>United States</td>\n",
              "      <td>Fort Lauderdale</td>\n",
              "      <td>Florida</td>\n",
              "      <td>33311</td>\n",
              "      <td>South</td>\n",
              "      <td>Furniture</td>\n",
              "      <td>Tables</td>\n",
              "      <td>957.5775</td>\n",
              "      <td>5</td>\n",
              "      <td>0.45</td>\n",
              "      <td>-383.0310</td>\n",
              "    </tr>\n",
              "    <tr>\n",
              "      <th>4</th>\n",
              "      <td>Standard Class</td>\n",
              "      <td>Consumer</td>\n",
              "      <td>United States</td>\n",
              "      <td>Fort Lauderdale</td>\n",
              "      <td>Florida</td>\n",
              "      <td>33311</td>\n",
              "      <td>South</td>\n",
              "      <td>Office Supplies</td>\n",
              "      <td>Storage</td>\n",
              "      <td>22.3680</td>\n",
              "      <td>2</td>\n",
              "      <td>0.20</td>\n",
              "      <td>2.5164</td>\n",
              "    </tr>\n",
              "  </tbody>\n",
              "</table>\n",
              "</div>"
            ],
            "text/plain": [
              "        Ship Mode    Segment        Country  ... Quantity Discount    Profit\n",
              "0    Second Class   Consumer  United States  ...        2     0.00   41.9136\n",
              "1    Second Class   Consumer  United States  ...        3     0.00  219.5820\n",
              "2    Second Class  Corporate  United States  ...        2     0.00    6.8714\n",
              "3  Standard Class   Consumer  United States  ...        5     0.45 -383.0310\n",
              "4  Standard Class   Consumer  United States  ...        2     0.20    2.5164\n",
              "\n",
              "[5 rows x 13 columns]"
            ]
          },
          "metadata": {
            "tags": []
          },
          "execution_count": 2
        }
      ]
    },
    {
      "cell_type": "code",
      "metadata": {
        "id": "A6NV4n0rx3fx",
        "outputId": "c3779306-f506-4934-c095-4fd033b8c539",
        "colab": {
          "base_uri": "https://localhost:8080/",
          "height": 326
        }
      },
      "source": [
        "store_data.tail()"
      ],
      "execution_count": 3,
      "outputs": [
        {
          "output_type": "execute_result",
          "data": {
            "text/html": [
              "<div>\n",
              "<style scoped>\n",
              "    .dataframe tbody tr th:only-of-type {\n",
              "        vertical-align: middle;\n",
              "    }\n",
              "\n",
              "    .dataframe tbody tr th {\n",
              "        vertical-align: top;\n",
              "    }\n",
              "\n",
              "    .dataframe thead th {\n",
              "        text-align: right;\n",
              "    }\n",
              "</style>\n",
              "<table border=\"1\" class=\"dataframe\">\n",
              "  <thead>\n",
              "    <tr style=\"text-align: right;\">\n",
              "      <th></th>\n",
              "      <th>Ship Mode</th>\n",
              "      <th>Segment</th>\n",
              "      <th>Country</th>\n",
              "      <th>City</th>\n",
              "      <th>State</th>\n",
              "      <th>Postal Code</th>\n",
              "      <th>Region</th>\n",
              "      <th>Category</th>\n",
              "      <th>Sub-Category</th>\n",
              "      <th>Sales</th>\n",
              "      <th>Quantity</th>\n",
              "      <th>Discount</th>\n",
              "      <th>Profit</th>\n",
              "    </tr>\n",
              "  </thead>\n",
              "  <tbody>\n",
              "    <tr>\n",
              "      <th>9989</th>\n",
              "      <td>Second Class</td>\n",
              "      <td>Consumer</td>\n",
              "      <td>United States</td>\n",
              "      <td>Miami</td>\n",
              "      <td>Florida</td>\n",
              "      <td>33180</td>\n",
              "      <td>South</td>\n",
              "      <td>Furniture</td>\n",
              "      <td>Furnishings</td>\n",
              "      <td>25.248</td>\n",
              "      <td>3</td>\n",
              "      <td>0.2</td>\n",
              "      <td>4.1028</td>\n",
              "    </tr>\n",
              "    <tr>\n",
              "      <th>9990</th>\n",
              "      <td>Standard Class</td>\n",
              "      <td>Consumer</td>\n",
              "      <td>United States</td>\n",
              "      <td>Costa Mesa</td>\n",
              "      <td>California</td>\n",
              "      <td>92627</td>\n",
              "      <td>West</td>\n",
              "      <td>Furniture</td>\n",
              "      <td>Furnishings</td>\n",
              "      <td>91.960</td>\n",
              "      <td>2</td>\n",
              "      <td>0.0</td>\n",
              "      <td>15.6332</td>\n",
              "    </tr>\n",
              "    <tr>\n",
              "      <th>9991</th>\n",
              "      <td>Standard Class</td>\n",
              "      <td>Consumer</td>\n",
              "      <td>United States</td>\n",
              "      <td>Costa Mesa</td>\n",
              "      <td>California</td>\n",
              "      <td>92627</td>\n",
              "      <td>West</td>\n",
              "      <td>Technology</td>\n",
              "      <td>Phones</td>\n",
              "      <td>258.576</td>\n",
              "      <td>2</td>\n",
              "      <td>0.2</td>\n",
              "      <td>19.3932</td>\n",
              "    </tr>\n",
              "    <tr>\n",
              "      <th>9992</th>\n",
              "      <td>Standard Class</td>\n",
              "      <td>Consumer</td>\n",
              "      <td>United States</td>\n",
              "      <td>Costa Mesa</td>\n",
              "      <td>California</td>\n",
              "      <td>92627</td>\n",
              "      <td>West</td>\n",
              "      <td>Office Supplies</td>\n",
              "      <td>Paper</td>\n",
              "      <td>29.600</td>\n",
              "      <td>4</td>\n",
              "      <td>0.0</td>\n",
              "      <td>13.3200</td>\n",
              "    </tr>\n",
              "    <tr>\n",
              "      <th>9993</th>\n",
              "      <td>Second Class</td>\n",
              "      <td>Consumer</td>\n",
              "      <td>United States</td>\n",
              "      <td>Westminster</td>\n",
              "      <td>California</td>\n",
              "      <td>92683</td>\n",
              "      <td>West</td>\n",
              "      <td>Office Supplies</td>\n",
              "      <td>Appliances</td>\n",
              "      <td>243.160</td>\n",
              "      <td>2</td>\n",
              "      <td>0.0</td>\n",
              "      <td>72.9480</td>\n",
              "    </tr>\n",
              "  </tbody>\n",
              "</table>\n",
              "</div>"
            ],
            "text/plain": [
              "           Ship Mode   Segment        Country  ... Quantity Discount   Profit\n",
              "9989    Second Class  Consumer  United States  ...        3      0.2   4.1028\n",
              "9990  Standard Class  Consumer  United States  ...        2      0.0  15.6332\n",
              "9991  Standard Class  Consumer  United States  ...        2      0.2  19.3932\n",
              "9992  Standard Class  Consumer  United States  ...        4      0.0  13.3200\n",
              "9993    Second Class  Consumer  United States  ...        2      0.0  72.9480\n",
              "\n",
              "[5 rows x 13 columns]"
            ]
          },
          "metadata": {
            "tags": []
          },
          "execution_count": 3
        }
      ]
    },
    {
      "cell_type": "markdown",
      "metadata": {
        "id": "qF8LUyen2PcG"
      },
      "source": [
        "**Step 2:** Statistical information of the dataset."
      ]
    },
    {
      "cell_type": "code",
      "metadata": {
        "id": "HbV1ZIztGKYR",
        "outputId": "0378450e-4ef2-4d26-e417-2e9c34908f12",
        "colab": {
          "base_uri": "https://localhost:8080/",
          "height": 357
        }
      },
      "source": [
        "store_data.info()"
      ],
      "execution_count": 4,
      "outputs": [
        {
          "output_type": "stream",
          "text": [
            "<class 'pandas.core.frame.DataFrame'>\n",
            "RangeIndex: 9994 entries, 0 to 9993\n",
            "Data columns (total 13 columns):\n",
            " #   Column        Non-Null Count  Dtype  \n",
            "---  ------        --------------  -----  \n",
            " 0   Ship Mode     9994 non-null   object \n",
            " 1   Segment       9994 non-null   object \n",
            " 2   Country       9994 non-null   object \n",
            " 3   City          9994 non-null   object \n",
            " 4   State         9994 non-null   object \n",
            " 5   Postal Code   9994 non-null   int64  \n",
            " 6   Region        9994 non-null   object \n",
            " 7   Category      9994 non-null   object \n",
            " 8   Sub-Category  9994 non-null   object \n",
            " 9   Sales         9994 non-null   float64\n",
            " 10  Quantity      9994 non-null   int64  \n",
            " 11  Discount      9994 non-null   float64\n",
            " 12  Profit        9994 non-null   float64\n",
            "dtypes: float64(3), int64(2), object(8)\n",
            "memory usage: 1015.1+ KB\n"
          ],
          "name": "stdout"
        }
      ]
    },
    {
      "cell_type": "markdown",
      "metadata": {
        "id": "JjmUYneoxQxs"
      },
      "source": [
        "If we look the dataset carefully, we see that out of all the columns of integer and float datatypes, **Postal Code** represents the unique no of a region in United States. So to make the heatmap, we'll have to drop **Postal Code** column. "
      ]
    },
    {
      "cell_type": "code",
      "metadata": {
        "id": "x1EsYgrcOx6J"
      },
      "source": [
        "store_data = store_data.drop(['Postal Code'],axis=1)"
      ],
      "execution_count": 5,
      "outputs": []
    },
    {
      "cell_type": "code",
      "metadata": {
        "id": "mxK8ZN8vPVai",
        "outputId": "8df16483-de23-4537-d6aa-ae2d9f6a7f76",
        "colab": {
          "base_uri": "https://localhost:8080/",
          "height": 173
        }
      },
      "source": [
        "#pairwise correlation of all columns\n",
        "store_data.corr()"
      ],
      "execution_count": 6,
      "outputs": [
        {
          "output_type": "execute_result",
          "data": {
            "text/html": [
              "<div>\n",
              "<style scoped>\n",
              "    .dataframe tbody tr th:only-of-type {\n",
              "        vertical-align: middle;\n",
              "    }\n",
              "\n",
              "    .dataframe tbody tr th {\n",
              "        vertical-align: top;\n",
              "    }\n",
              "\n",
              "    .dataframe thead th {\n",
              "        text-align: right;\n",
              "    }\n",
              "</style>\n",
              "<table border=\"1\" class=\"dataframe\">\n",
              "  <thead>\n",
              "    <tr style=\"text-align: right;\">\n",
              "      <th></th>\n",
              "      <th>Sales</th>\n",
              "      <th>Quantity</th>\n",
              "      <th>Discount</th>\n",
              "      <th>Profit</th>\n",
              "    </tr>\n",
              "  </thead>\n",
              "  <tbody>\n",
              "    <tr>\n",
              "      <th>Sales</th>\n",
              "      <td>1.000000</td>\n",
              "      <td>0.200795</td>\n",
              "      <td>-0.028190</td>\n",
              "      <td>0.479064</td>\n",
              "    </tr>\n",
              "    <tr>\n",
              "      <th>Quantity</th>\n",
              "      <td>0.200795</td>\n",
              "      <td>1.000000</td>\n",
              "      <td>0.008623</td>\n",
              "      <td>0.066253</td>\n",
              "    </tr>\n",
              "    <tr>\n",
              "      <th>Discount</th>\n",
              "      <td>-0.028190</td>\n",
              "      <td>0.008623</td>\n",
              "      <td>1.000000</td>\n",
              "      <td>-0.219487</td>\n",
              "    </tr>\n",
              "    <tr>\n",
              "      <th>Profit</th>\n",
              "      <td>0.479064</td>\n",
              "      <td>0.066253</td>\n",
              "      <td>-0.219487</td>\n",
              "      <td>1.000000</td>\n",
              "    </tr>\n",
              "  </tbody>\n",
              "</table>\n",
              "</div>"
            ],
            "text/plain": [
              "             Sales  Quantity  Discount    Profit\n",
              "Sales     1.000000  0.200795 -0.028190  0.479064\n",
              "Quantity  0.200795  1.000000  0.008623  0.066253\n",
              "Discount -0.028190  0.008623  1.000000 -0.219487\n",
              "Profit    0.479064  0.066253 -0.219487  1.000000"
            ]
          },
          "metadata": {
            "tags": []
          },
          "execution_count": 6
        }
      ]
    },
    {
      "cell_type": "code",
      "metadata": {
        "id": "STJC8-CyPodz",
        "outputId": "39227f39-7dc8-4bf7-a1cf-7fbc04b1ca14",
        "colab": {
          "base_uri": "https://localhost:8080/",
          "height": 286
        }
      },
      "source": [
        "sns.heatmap(store_data.corr(),annot=True)"
      ],
      "execution_count": 7,
      "outputs": [
        {
          "output_type": "execute_result",
          "data": {
            "text/plain": [
              "<matplotlib.axes._subplots.AxesSubplot at 0x7fbb678938d0>"
            ]
          },
          "metadata": {
            "tags": []
          },
          "execution_count": 7
        },
        {
          "output_type": "display_data",
          "data": {
            "image/png": "[encoded data removed]",
            "text/plain": [
              "<Figure size 432x288 with 2 Axes>"
            ]
          },
          "metadata": {
            "tags": [],
            "needs_background": "light"
          }
        }
      ]
    },
    {
      "cell_type": "markdown",
      "metadata": {
        "id": "Zozgdm_Q0Riy"
      },
      "source": [
        "## 1.1) Understanding of Sales in terms of **Category, Shipping Mode, Segment & Region.**\n"
      ]
    },
    {
      "cell_type": "markdown",
      "metadata": {
        "id": "12X-b1B7zMWp"
      },
      "source": [
        "### a) Sales in terms of Categories:"
      ]
    },
    {
      "cell_type": "code",
      "metadata": {
        "id": "z_eTJIZUGS7k",
        "outputId": "f757c9d5-06a8-4951-88b2-747ccff6ad11",
        "colab": {
          "base_uri": "https://localhost:8080/",
          "height": 317
        }
      },
      "source": [
        "#Bar Plot\n",
        "plt.title('Category vs Sales',size= 15)\n",
        "plt.xlabel('Category',size= 13)\n",
        "plt.ylabel('Sales',size= 13)\n",
        "sns.barplot(x=store_data['Category'], y=store_data['Sales'], palette=\"gnuplot\")"
      ],
      "execution_count": 8,
      "outputs": [
        {
          "output_type": "execute_result",
          "data": {
            "text/plain": [
              "<matplotlib.axes._subplots.AxesSubplot at 0x7fbb64f65518>"
            ]
          },
          "metadata": {
            "tags": []
          },
          "execution_count": 8
        },
        {
          "output_type": "display_data",
          "data": {
            "image/png": "[encoded data removed]",
            "text/plain": [
              "<Figure size 432x288 with 1 Axes>"
            ]
          },
          "metadata": {
            "tags": [],
            "needs_background": "light"
          }
        }
      ]
    },
    {
      "cell_type": "markdown",
      "metadata": {
        "id": "jU0iZ2FDE7tt"
      },
      "source": [
        "**Conclusion:** In this plot, we see that with almost 450, **Technology** had the most Sales as well as **Furniture** had the lowest sales with 100 units."
      ]
    },
    {
      "cell_type": "markdown",
      "metadata": {
        "id": "rMJSCtnCzct_"
      },
      "source": [
        "### b) Sales in terms of Shipping Modes:"
      ]
    },
    {
      "cell_type": "code",
      "metadata": {
        "id": "XDi3lVdDw3V1",
        "outputId": "1fa2d07c-7a37-4f0e-fe1a-3389c53a4742",
        "colab": {
          "base_uri": "https://localhost:8080/",
          "height": 317
        }
      },
      "source": [
        "plt.title('Shipping Modes vs Sales',size= 15)\n",
        "plt.xlabel('Shipping Modes',size= 13)\n",
        "plt.ylabel('Sales',size= 13)\n",
        "sns.barplot(x=store_data['Ship Mode'], y=store_data['Sales'], palette=\"gnuplot\")"
      ],
      "execution_count": 9,
      "outputs": [
        {
          "output_type": "execute_result",
          "data": {
            "text/plain": [
              "<matplotlib.axes._subplots.AxesSubplot at 0x7fbb64a9fc88>"
            ]
          },
          "metadata": {
            "tags": []
          },
          "execution_count": 9
        },
        {
          "output_type": "display_data",
          "data": {
            "image/png": "[encoded data removed]",
            "text/plain": [
              "<Figure size 432x288 with 1 Axes>"
            ]
          },
          "metadata": {
            "tags": [],
            "needs_background": "light"
          }
        }
      ]
    },
    {
      "cell_type": "markdown",
      "metadata": {
        "id": "wq_18PK-GUNM"
      },
      "source": [
        "**Conclusion:** With a little difference to each other, Products had most sales when **they're shipped in the same day.**   "
      ]
    },
    {
      "cell_type": "markdown",
      "metadata": {
        "id": "QBiYBiz6zzKx"
      },
      "source": [
        "### c) Sales in terms of Segments:"
      ]
    },
    {
      "cell_type": "code",
      "metadata": {
        "id": "FNuqsAp_xsEd",
        "outputId": "38c79abc-81d4-4c51-a803-0fc167ca3f1b",
        "colab": {
          "base_uri": "https://localhost:8080/",
          "height": 317
        }
      },
      "source": [
        "plt.title('Segment vs Sales',size= 15)\n",
        "plt.xlabel('Segments',size= 13)\n",
        "plt.ylabel('Sales',size= 13)\n",
        "sns.barplot(x=store_data['Segment'], y=store_data['Sales'], palette=\"gnuplot\")"
      ],
      "execution_count": 10,
      "outputs": [
        {
          "output_type": "execute_result",
          "data": {
            "text/plain": [
              "<matplotlib.axes._subplots.AxesSubplot at 0x7fbb64a48cc0>"
            ]
          },
          "metadata": {
            "tags": []
          },
          "execution_count": 10
        },
        {
          "output_type": "display_data",
          "data": {
            "image/png": "[encoded data removed]",
            "text/plain": [
              "<Figure size 432x288 with 1 Axes>"
            ]
          },
          "metadata": {
            "tags": [],
            "needs_background": "light"
          }
        }
      ]
    },
    {
      "cell_type": "markdown",
      "metadata": {
        "id": "vaZQ1BJ3HVRX"
      },
      "source": [
        "**Conclusion:** In this plot, we see that sales had the most in **Home Office** Sector followed by **Corporate** and **Consumer** sectors respectively."
      ]
    },
    {
      "cell_type": "markdown",
      "metadata": {
        "id": "hDeZK6aq0IQw"
      },
      "source": [
        "### d) Sales in terms of Region:"
      ]
    },
    {
      "cell_type": "code",
      "metadata": {
        "id": "5Nnwe5AdzCSg",
        "outputId": "9a8626f6-ab8b-4473-e415-3eb97a816ed6",
        "colab": {
          "base_uri": "https://localhost:8080/",
          "height": 317
        }
      },
      "source": [
        "plt.title('Region vs Sales',size= 15)\n",
        "plt.xlabel('Region',size= 13)\n",
        "plt.ylabel('Sales',size= 13)\n",
        "sns.barplot(x=store_data['Region'], y=store_data['Sales'], palette=\"gnuplot\")"
      ],
      "execution_count": 11,
      "outputs": [
        {
          "output_type": "execute_result",
          "data": {
            "text/plain": [
              "<matplotlib.axes._subplots.AxesSubplot at 0x7fbb649ec940>"
            ]
          },
          "metadata": {
            "tags": []
          },
          "execution_count": 11
        },
        {
          "output_type": "display_data",
          "data": {
            "image/png": "[encoded data removed]",
            "text/plain": [
              "<Figure size 432x288 with 1 Axes>"
            ]
          },
          "metadata": {
            "tags": [],
            "needs_background": "light"
          }
        }
      ]
    },
    {
      "cell_type": "markdown",
      "metadata": {
        "id": "vktfQmpWINsF"
      },
      "source": [
        "**Conclusion:** In this plot, we see that **South Region** had the most sales whereas **Central Region** had the least sales among them."
      ]
    },
    {
      "cell_type": "markdown",
      "metadata": {
        "id": "fptPkR3IzUnp"
      },
      "source": [
        "## 1.2) Understanding of Profit in terms of Category, Shipping Mode, Segment & Region."
      ]
    },
    {
      "cell_type": "markdown",
      "metadata": {
        "id": "-K0wYGyk002Q"
      },
      "source": [
        "### a) Profit in terms of Category:"
      ]
    },
    {
      "cell_type": "code",
      "metadata": {
        "id": "A4KJnp60z4Q4",
        "outputId": "744b81c2-21aa-4b33-c4cc-35bb5e9a313a",
        "colab": {
          "base_uri": "https://localhost:8080/",
          "height": 317
        }
      },
      "source": [
        "plt.title('Category vs Profit',size= 15)\n",
        "plt.xlabel('Category',size= 13)\n",
        "plt.ylabel('Profit',size= 13)\n",
        "sns.barplot(x=store_data['Category'], y=store_data['Profit'], palette=\"hot_r\")"
      ],
      "execution_count": 12,
      "outputs": [
        {
          "output_type": "execute_result",
          "data": {
            "text/plain": [
              "<matplotlib.axes._subplots.AxesSubplot at 0x7fbb64958748>"
            ]
          },
          "metadata": {
            "tags": []
          },
          "execution_count": 12
        },
        {
          "output_type": "display_data",
          "data": {
            "image/png": "[encoded data removed]",
            "text/plain": [
              "<Figure size 432x288 with 1 Axes>"
            ]
          },
          "metadata": {
            "tags": [],
            "needs_background": "light"
          }
        }
      ]
    },
    {
      "cell_type": "markdown",
      "metadata": {
        "id": "UyHna4dSJ0M9"
      },
      "source": [
        "**Conclusion:** In this plot, we see that **Technology** had more profit than the all of them; **Furniture** had the lowest profit. "
      ]
    },
    {
      "cell_type": "markdown",
      "metadata": {
        "id": "7k7T6Q3W1D62"
      },
      "source": [
        "### b) Profit in terms of Shipping Modes:"
      ]
    },
    {
      "cell_type": "code",
      "metadata": {
        "id": "sZowL9mSzumo",
        "outputId": "10b808e7-5302-436c-bc0a-04854a70707e",
        "colab": {
          "base_uri": "https://localhost:8080/",
          "height": 317
        }
      },
      "source": [
        "plt.title('Shipping Modes vs Profit',size= 15)\n",
        "plt.xlabel('Shipping Mode',size= 13)\n",
        "plt.ylabel('Profit',size= 13)\n",
        "sns.barplot(x=store_data['Ship Mode'], y=store_data['Profit'], palette=\"hot_r\")"
      ],
      "execution_count": 13,
      "outputs": [
        {
          "output_type": "execute_result",
          "data": {
            "text/plain": [
              "<matplotlib.axes._subplots.AxesSubplot at 0x7fbb64aa2b70>"
            ]
          },
          "metadata": {
            "tags": []
          },
          "execution_count": 13
        },
        {
          "output_type": "display_data",
          "data": {
            "image/png": "[encoded data removed]",
            "text/plain": [
              "<Figure size 432x288 with 1 Axes>"
            ]
          },
          "metadata": {
            "tags": [],
            "needs_background": "light"
          }
        }
      ]
    },
    {
      "cell_type": "markdown",
      "metadata": {
        "id": "tUtRdlpNKV4u"
      },
      "source": [
        "**Conclusion:** In this plot, we see that the company gained more profit when the shipping mode is in **First Class**."
      ]
    },
    {
      "cell_type": "markdown",
      "metadata": {
        "id": "VpWy7UF21Q4N"
      },
      "source": [
        "### c) Profit in terms of Segments:"
      ]
    },
    {
      "cell_type": "code",
      "metadata": {
        "id": "f9ND23AW0G3l",
        "outputId": "edc42552-989a-4a0e-8fc2-7215fa5ff7ac",
        "colab": {
          "base_uri": "https://localhost:8080/",
          "height": 317
        }
      },
      "source": [
        "plt.title('Segments vs Profit',size= 15)\n",
        "plt.xlabel('Segments',size= 13)\n",
        "plt.ylabel('Profit',size= 13)\n",
        "sns.barplot(x=store_data['Segment'], y=store_data['Profit'], palette=\"hot_r\")"
      ],
      "execution_count": 14,
      "outputs": [
        {
          "output_type": "execute_result",
          "data": {
            "text/plain": [
              "<matplotlib.axes._subplots.AxesSubplot at 0x7fbb6488d128>"
            ]
          },
          "metadata": {
            "tags": []
          },
          "execution_count": 14
        },
        {
          "output_type": "display_data",
          "data": {
            "image/png": "[encoded data removed]",
            "text/plain": [
              "<Figure size 432x288 with 1 Axes>"
            ]
          },
          "metadata": {
            "tags": [],
            "needs_background": "light"
          }
        }
      ]
    },
    {
      "cell_type": "markdown",
      "metadata": {
        "id": "-JyxkUpmKq_e"
      },
      "source": [
        "**Conclusion:** In this plot, we see that the company had more profit in the **Home Office** sector; **Consumer** sector had the lowest profit. "
      ]
    },
    {
      "cell_type": "markdown",
      "metadata": {
        "id": "C268A2tS4IHU"
      },
      "source": [
        "### d) Profit in terms of Region:"
      ]
    },
    {
      "cell_type": "code",
      "metadata": {
        "id": "n-SotmO00FGQ",
        "outputId": "a4a00c5b-979e-4f86-80b4-7dd76e459938",
        "colab": {
          "base_uri": "https://localhost:8080/",
          "height": 317
        }
      },
      "source": [
        "plt.title('Region vs Profit',size= 15)\n",
        "plt.xlabel('Region',size= 13)\n",
        "plt.ylabel('Profit',size= 13)\n",
        "sns.barplot(x=store_data['Region'], y=store_data['Profit'], palette=\"hot_r\")"
      ],
      "execution_count": 15,
      "outputs": [
        {
          "output_type": "execute_result",
          "data": {
            "text/plain": [
              "<matplotlib.axes._subplots.AxesSubplot at 0x7fbb64868550>"
            ]
          },
          "metadata": {
            "tags": []
          },
          "execution_count": 15
        },
        {
          "output_type": "display_data",
          "data": {
            "image/png": "[encoded data removed]",
            "text/plain": [
              "<Figure size 432x288 with 1 Axes>"
            ]
          },
          "metadata": {
            "tags": [],
            "needs_background": "light"
          }
        }
      ]
    },
    {
      "cell_type": "markdown",
      "metadata": {
        "id": "Q4tWy8kbLPHN"
      },
      "source": [
        "**Conclusion:** In this plot, we see that **West Region** had more profit whereas between 15-20 units, **Central Region** has the lowest profit"
      ]
    },
    {
      "cell_type": "markdown",
      "metadata": {
        "id": "JKeTkqH60buf"
      },
      "source": [
        "## 1.3) Understanding of No. of orders in terms of **Category, Shipping Mode, Segment & Region.**\n"
      ]
    },
    {
      "cell_type": "markdown",
      "metadata": {
        "id": "6u1ZtNdR4dl1"
      },
      "source": [
        "### a) No. of orders in terms of Category:"
      ]
    },
    {
      "cell_type": "code",
      "metadata": {
        "id": "7QDICEax0iBb",
        "outputId": "aaa3358e-60d6-47ea-a887-5c96f8e0e506",
        "colab": {
          "base_uri": "https://localhost:8080/",
          "height": 493
        }
      },
      "source": [
        "plt.figure(figsize=(6,5))\n",
        "sns.countplot('Category',data=store_data, palette='gist_earth')\n",
        "plt.title('Category',size=13)\n",
        "plt.xlabel('\\nCategory', size=15)\n",
        "plt.ylabel('Number of orders', size=15)\n",
        "plt.xticks(rotation=45)"
      ],
      "execution_count": 16,
      "outputs": [
        {
          "output_type": "stream",
          "text": [
            "/usr/local/lib/python3.6/dist-packages/seaborn/_decorators.py:43: FutureWarning: Pass the following variable as a keyword arg: x. From version 0.12, the only valid positional argument will be `data`, and passing other arguments without an explicit keyword will result in an error or misinterpretation.\n",
            "  FutureWarning\n"
          ],
          "name": "stderr"
        },
        {
          "output_type": "execute_result",
          "data": {
            "text/plain": [
              "(array([0, 1, 2]), <a list of 3 Text major ticklabel objects>)"
            ]
          },
          "metadata": {
            "tags": []
          },
          "execution_count": 16
        },
        {
          "output_type": "display_data",
          "data": {
            "image/png": "[encoded data removed]",
            "text/plain": [
              "<Figure size 432x360 with 1 Axes>"
            ]
          },
          "metadata": {
            "tags": [],
            "needs_background": "light"
          }
        }
      ]
    },
    {
      "cell_type": "markdown",
      "metadata": {
        "id": "GQycXkqRL0v1"
      },
      "source": [
        "**Conclusion:** We had more no of orders in **Office Supplies** whereas less no of orders in **Technology** Sector.  \n"
      ]
    },
    {
      "cell_type": "markdown",
      "metadata": {
        "id": "66A3mUrc5JNp"
      },
      "source": [
        "### b) No. of orders in terms of Shipping Modes:"
      ]
    },
    {
      "cell_type": "code",
      "metadata": {
        "id": "CW8TXQFUIgqB",
        "outputId": "ad223232-7aaf-43be-d52a-d10d9fa9019a",
        "colab": {
          "base_uri": "https://localhost:8080/",
          "height": 493
        }
      },
      "source": [
        "plt.figure(figsize=(6,5))\n",
        "sns.countplot('Ship Mode',data=store_data, palette='gist_earth')\n",
        "plt.title('Shipping Modes',size=13)\n",
        "plt.xlabel('\\nShipping mode', size=15)\n",
        "plt.ylabel('Number of orders', size=15)\n",
        "plt.xticks(rotation=45)"
      ],
      "execution_count": 17,
      "outputs": [
        {
          "output_type": "stream",
          "text": [
            "/usr/local/lib/python3.6/dist-packages/seaborn/_decorators.py:43: FutureWarning: Pass the following variable as a keyword arg: x. From version 0.12, the only valid positional argument will be `data`, and passing other arguments without an explicit keyword will result in an error or misinterpretation.\n",
            "  FutureWarning\n"
          ],
          "name": "stderr"
        },
        {
          "output_type": "execute_result",
          "data": {
            "text/plain": [
              "(array([0, 1, 2, 3]), <a list of 4 Text major ticklabel objects>)"
            ]
          },
          "metadata": {
            "tags": []
          },
          "execution_count": 17
        },
        {
          "output_type": "display_data",
          "data": {
            "image/png": "[encoded data removed]",
            "text/plain": [
              "<Figure size 432x360 with 1 Axes>"
            ]
          },
          "metadata": {
            "tags": [],
            "needs_background": "light"
          }
        }
      ]
    },
    {
      "cell_type": "markdown",
      "metadata": {
        "id": "C4Wmn8egNjtu"
      },
      "source": [
        "**Conclusion:** In this plot, we see that we had more no of orders when they're shipped in **Standard Class**."
      ]
    },
    {
      "cell_type": "markdown",
      "metadata": {
        "id": "oA9cIsIi5-BL"
      },
      "source": [
        "### c) No. of orders in terms of Segments:"
      ]
    },
    {
      "cell_type": "code",
      "metadata": {
        "id": "EwSr48PG2v2s",
        "outputId": "9f7d85e9-42e0-413e-fce4-32e045ae8dc1",
        "colab": {
          "base_uri": "https://localhost:8080/",
          "height": 484
        }
      },
      "source": [
        "plt.figure(figsize=(6,5))\n",
        "sns.countplot('Segment',data=store_data, palette='gist_earth')\n",
        "plt.title('Segments',size=13)\n",
        "plt.xlabel('\\nSegments', size=15)\n",
        "plt.ylabel('Number of orders', size=15)\n",
        "plt.xticks(rotation=45)"
      ],
      "execution_count": 18,
      "outputs": [
        {
          "output_type": "stream",
          "text": [
            "/usr/local/lib/python3.6/dist-packages/seaborn/_decorators.py:43: FutureWarning: Pass the following variable as a keyword arg: x. From version 0.12, the only valid positional argument will be `data`, and passing other arguments without an explicit keyword will result in an error or misinterpretation.\n",
            "  FutureWarning\n"
          ],
          "name": "stderr"
        },
        {
          "output_type": "execute_result",
          "data": {
            "text/plain": [
              "(array([0, 1, 2]), <a list of 3 Text major ticklabel objects>)"
            ]
          },
          "metadata": {
            "tags": []
          },
          "execution_count": 18
        },
        {
          "output_type": "display_data",
          "data": {
            "image/png": "[encoded data removed]",
            "text/plain": [
              "<Figure size 432x360 with 1 Axes>"
            ]
          },
          "metadata": {
            "tags": [],
            "needs_background": "light"
          }
        }
      ]
    },
    {
      "cell_type": "markdown",
      "metadata": {
        "id": "oq76oqwMOnKJ"
      },
      "source": [
        "**Conclusion:** In this plot, we see that we receive more no of orders in **Consumer** Sector whereas less no of orders are in **Home Office** Sector.  \n"
      ]
    },
    {
      "cell_type": "markdown",
      "metadata": {
        "id": "fBamquyw6E69"
      },
      "source": [
        "### d) No. of orders in terms of Region:"
      ]
    },
    {
      "cell_type": "code",
      "metadata": {
        "id": "2IT7a6Po09RR",
        "outputId": "7499c09b-1c65-447b-fb7c-7f6877d499c6",
        "colab": {
          "base_uri": "https://localhost:8080/",
          "height": 466
        }
      },
      "source": [
        "plt.figure(figsize=(6,5))\n",
        "sns.countplot('Region',data=store_data, palette='gist_earth')\n",
        "plt.title('Region',size=13)\n",
        "plt.xlabel('\\nRegion', size=15)\n",
        "plt.ylabel('Number of orders', size=15)\n",
        "plt.xticks(rotation=45)"
      ],
      "execution_count": 19,
      "outputs": [
        {
          "output_type": "stream",
          "text": [
            "/usr/local/lib/python3.6/dist-packages/seaborn/_decorators.py:43: FutureWarning: Pass the following variable as a keyword arg: x. From version 0.12, the only valid positional argument will be `data`, and passing other arguments without an explicit keyword will result in an error or misinterpretation.\n",
            "  FutureWarning\n"
          ],
          "name": "stderr"
        },
        {
          "output_type": "execute_result",
          "data": {
            "text/plain": [
              "(array([0, 1, 2, 3]), <a list of 4 Text major ticklabel objects>)"
            ]
          },
          "metadata": {
            "tags": []
          },
          "execution_count": 19
        },
        {
          "output_type": "display_data",
          "data": {
            "image/png": "[encoded data removed]",
            "text/plain": [
              "<Figure size 432x360 with 1 Axes>"
            ]
          },
          "metadata": {
            "tags": [],
            "needs_background": "light"
          }
        }
      ]
    },
    {
      "cell_type": "markdown",
      "metadata": {
        "id": "9-taqCJtO95x"
      },
      "source": [
        "**Conclusion:** In this plot, we see that we receive more no of orders in **West** Region whereas less no of orders are in **South** Region."
      ]
    },
    {
      "cell_type": "markdown",
      "metadata": {
        "id": "htYU5VpZYWUW"
      },
      "source": [
        "In sections 2 & 3, first we grouped the desired datasets from\n",
        "\n",
        "a) One from **Sub-Category** and  **City**\n",
        "\n",
        "b) One from **Sales** and **Profit** \n",
        "\n",
        "then after sorting the unique values of **column (a)** we added the values of **column (b)**. After that we sorted **column (a)** on the basis of the sum obtained in ascending and descending order on both sections 2 & 3 respectively."
      ]
    },
    {
      "cell_type": "markdown",
      "metadata": {
        "id": "hmG-bFHtzxqI"
      },
      "source": [
        "##2) Top 5 Products & Cities in terms of **Sales & Profit**"
      ]
    },
    {
      "cell_type": "markdown",
      "metadata": {
        "id": "MnqaRI7Nezpz"
      },
      "source": [
        "### a) Top 5 Products with High profit "
      ]
    },
    {
      "cell_type": "code",
      "metadata": {
        "id": "vVHObFi4LIDd",
        "outputId": "10aa2a8e-4b2d-4ec5-b85e-d02b1bfcb637",
        "colab": {
          "base_uri": "https://localhost:8080/",
          "height": 204
        }
      },
      "source": [
        "df5_1 = store_data.groupby('Sub-Category')['Profit'].sum().reset_index().sort_values(by='Profit',ascending=False)\n",
        "df5_1.reset_index(drop=True,inplace=True)\n",
        "df5_1=df5_1.head(5)\n",
        "df5_1"
      ],
      "execution_count": 20,
      "outputs": [
        {
          "output_type": "execute_result",
          "data": {
            "text/html": [
              "<div>\n",
              "<style scoped>\n",
              "    .dataframe tbody tr th:only-of-type {\n",
              "        vertical-align: middle;\n",
              "    }\n",
              "\n",
              "    .dataframe tbody tr th {\n",
              "        vertical-align: top;\n",
              "    }\n",
              "\n",
              "    .dataframe thead th {\n",
              "        text-align: right;\n",
              "    }\n",
              "</style>\n",
              "<table border=\"1\" class=\"dataframe\">\n",
              "  <thead>\n",
              "    <tr style=\"text-align: right;\">\n",
              "      <th></th>\n",
              "      <th>Sub-Category</th>\n",
              "      <th>Profit</th>\n",
              "    </tr>\n",
              "  </thead>\n",
              "  <tbody>\n",
              "    <tr>\n",
              "      <th>0</th>\n",
              "      <td>Copiers</td>\n",
              "      <td>55617.8249</td>\n",
              "    </tr>\n",
              "    <tr>\n",
              "      <th>1</th>\n",
              "      <td>Phones</td>\n",
              "      <td>44515.7306</td>\n",
              "    </tr>\n",
              "    <tr>\n",
              "      <th>2</th>\n",
              "      <td>Accessories</td>\n",
              "      <td>41936.6357</td>\n",
              "    </tr>\n",
              "    <tr>\n",
              "      <th>3</th>\n",
              "      <td>Paper</td>\n",
              "      <td>34053.5693</td>\n",
              "    </tr>\n",
              "    <tr>\n",
              "      <th>4</th>\n",
              "      <td>Binders</td>\n",
              "      <td>30221.7633</td>\n",
              "    </tr>\n",
              "  </tbody>\n",
              "</table>\n",
              "</div>"
            ],
            "text/plain": [
              "  Sub-Category      Profit\n",
              "0      Copiers  55617.8249\n",
              "1       Phones  44515.7306\n",
              "2  Accessories  41936.6357\n",
              "3        Paper  34053.5693\n",
              "4      Binders  30221.7633"
            ]
          },
          "metadata": {
            "tags": []
          },
          "execution_count": 20
        }
      ]
    },
    {
      "cell_type": "code",
      "metadata": {
        "id": "-rAlUj2YLb3w",
        "outputId": "13977513-5355-4eba-af37-7114f8be72c4",
        "colab": {
          "base_uri": "https://localhost:8080/",
          "height": 554
        }
      },
      "source": [
        "plt.figure(figsize=(16,6))\n",
        "sns.catplot('Sub-Category','Profit',data=df5_1,kind='bar',palette='coolwarm')\n",
        "plt.title('Top 5 profitable products',size=20)\n",
        "plt.xticks(size=13,rotation=45)\n",
        "plt.yticks(size=13)\n",
        "plt.ylabel('Cumulative profit',size=18)\n",
        "plt.xlabel('Products',size=18)"
      ],
      "execution_count": 21,
      "outputs": [
        {
          "output_type": "stream",
          "text": [
            "/usr/local/lib/python3.6/dist-packages/seaborn/_decorators.py:43: FutureWarning: Pass the following variables as keyword args: x, y. From version 0.12, the only valid positional argument will be `data`, and passing other arguments without an explicit keyword will result in an error or misinterpretation.\n",
            "  FutureWarning\n"
          ],
          "name": "stderr"
        },
        {
          "output_type": "execute_result",
          "data": {
            "text/plain": [
              "Text(0.5, 6.79999999999999, 'Products')"
            ]
          },
          "metadata": {
            "tags": []
          },
          "execution_count": 21
        },
        {
          "output_type": "display_data",
          "data": {
            "text/plain": [
              "<Figure size 1152x432 with 0 Axes>"
            ]
          },
          "metadata": {
            "tags": []
          }
        },
        {
          "output_type": "display_data",
          "data": {
            "image/png": "[encoded data removed]",
            "text/plain": [
              "<Figure size 360x360 with 1 Axes>"
            ]
          },
          "metadata": {
            "tags": [],
            "needs_background": "light"
          }
        }
      ]
    },
    {
      "cell_type": "markdown",
      "metadata": {
        "id": "iDE4i_V6iNoi"
      },
      "source": [
        "### b) Top 5 Cities with High profit "
      ]
    },
    {
      "cell_type": "code",
      "metadata": {
        "id": "vFA8cmgJIgiV",
        "outputId": "bbd75b7e-1f97-407b-a2e3-7468584d02a8",
        "colab": {
          "base_uri": "https://localhost:8080/",
          "height": 204
        }
      },
      "source": [
        "df5_2 = store_data.groupby('City')['Profit'].sum().reset_index().sort_values(by='Profit',ascending=False)\n",
        "df5_2.reset_index(drop=True,inplace=True)\n",
        "df5_2=df5_2.head(5)\n",
        "df5_2"
      ],
      "execution_count": 22,
      "outputs": [
        {
          "output_type": "execute_result",
          "data": {
            "text/html": [
              "<div>\n",
              "<style scoped>\n",
              "    .dataframe tbody tr th:only-of-type {\n",
              "        vertical-align: middle;\n",
              "    }\n",
              "\n",
              "    .dataframe tbody tr th {\n",
              "        vertical-align: top;\n",
              "    }\n",
              "\n",
              "    .dataframe thead th {\n",
              "        text-align: right;\n",
              "    }\n",
              "</style>\n",
              "<table border=\"1\" class=\"dataframe\">\n",
              "  <thead>\n",
              "    <tr style=\"text-align: right;\">\n",
              "      <th></th>\n",
              "      <th>City</th>\n",
              "      <th>Profit</th>\n",
              "    </tr>\n",
              "  </thead>\n",
              "  <tbody>\n",
              "    <tr>\n",
              "      <th>0</th>\n",
              "      <td>New York City</td>\n",
              "      <td>62036.9837</td>\n",
              "    </tr>\n",
              "    <tr>\n",
              "      <th>1</th>\n",
              "      <td>Los Angeles</td>\n",
              "      <td>30440.7579</td>\n",
              "    </tr>\n",
              "    <tr>\n",
              "      <th>2</th>\n",
              "      <td>Seattle</td>\n",
              "      <td>29156.0967</td>\n",
              "    </tr>\n",
              "    <tr>\n",
              "      <th>3</th>\n",
              "      <td>San Francisco</td>\n",
              "      <td>17507.3854</td>\n",
              "    </tr>\n",
              "    <tr>\n",
              "      <th>4</th>\n",
              "      <td>Detroit</td>\n",
              "      <td>13181.7908</td>\n",
              "    </tr>\n",
              "  </tbody>\n",
              "</table>\n",
              "</div>"
            ],
            "text/plain": [
              "            City      Profit\n",
              "0  New York City  62036.9837\n",
              "1    Los Angeles  30440.7579\n",
              "2        Seattle  29156.0967\n",
              "3  San Francisco  17507.3854\n",
              "4        Detroit  13181.7908"
            ]
          },
          "metadata": {
            "tags": []
          },
          "execution_count": 22
        }
      ]
    },
    {
      "cell_type": "code",
      "metadata": {
        "id": "i2TBNAPwIgnq",
        "outputId": "2282ca81-76a5-4b60-b56c-87a7b8516be0",
        "colab": {
          "base_uri": "https://localhost:8080/",
          "height": 540
        }
      },
      "source": [
        "sns.catplot('City','Profit',data=df5_2,kind='bar',palette='coolwarm')\n",
        "plt.title('Top 5 cities with high profit',size=15)\n",
        "plt.xticks(size=13, rotation=45)\n",
        "plt.yticks(size=13)\n",
        "plt.ylabel('Cumulative profit',size=15)\n",
        "plt.xlabel('City',size=15)"
      ],
      "execution_count": 23,
      "outputs": [
        {
          "output_type": "stream",
          "text": [
            "/usr/local/lib/python3.6/dist-packages/seaborn/_decorators.py:43: FutureWarning: Pass the following variables as keyword args: x, y. From version 0.12, the only valid positional argument will be `data`, and passing other arguments without an explicit keyword will result in an error or misinterpretation.\n",
            "  FutureWarning\n"
          ],
          "name": "stderr"
        },
        {
          "output_type": "execute_result",
          "data": {
            "text/plain": [
              "Text(0.5, 6.79999999999999, 'City')"
            ]
          },
          "metadata": {
            "tags": []
          },
          "execution_count": 23
        },
        {
          "output_type": "display_data",
          "data": {
            "image/png": "[encoded data removed]",
            "text/plain": [
              "<Figure size 360x360 with 1 Axes>"
            ]
          },
          "metadata": {
            "tags": [],
            "needs_background": "light"
          }
        }
      ]
    },
    {
      "cell_type": "markdown",
      "metadata": {
        "id": "MZG-_S9Ainr5"
      },
      "source": [
        "### c) Top 5 Products with High Sales "
      ]
    },
    {
      "cell_type": "code",
      "metadata": {
        "id": "Vhu25n33Qb18",
        "outputId": "b6409774-84cd-4eae-d8d3-b69b9ae09697",
        "colab": {
          "base_uri": "https://localhost:8080/",
          "height": 204
        }
      },
      "source": [
        "df5_3 = store_data.groupby(\"Sub-Category\")[\"Sales\"].sum().reset_index().sort_values(by=\"Sales\",ascending=False)\n",
        "df5_3.reset_index(drop=True,inplace=True)\n",
        "df5_3=df5_3.head(5)\n",
        "df5_3"
      ],
      "execution_count": 24,
      "outputs": [
        {
          "output_type": "execute_result",
          "data": {
            "text/html": [
              "<div>\n",
              "<style scoped>\n",
              "    .dataframe tbody tr th:only-of-type {\n",
              "        vertical-align: middle;\n",
              "    }\n",
              "\n",
              "    .dataframe tbody tr th {\n",
              "        vertical-align: top;\n",
              "    }\n",
              "\n",
              "    .dataframe thead th {\n",
              "        text-align: right;\n",
              "    }\n",
              "</style>\n",
              "<table border=\"1\" class=\"dataframe\">\n",
              "  <thead>\n",
              "    <tr style=\"text-align: right;\">\n",
              "      <th></th>\n",
              "      <th>Sub-Category</th>\n",
              "      <th>Sales</th>\n",
              "    </tr>\n",
              "  </thead>\n",
              "  <tbody>\n",
              "    <tr>\n",
              "      <th>0</th>\n",
              "      <td>Phones</td>\n",
              "      <td>330007.054</td>\n",
              "    </tr>\n",
              "    <tr>\n",
              "      <th>1</th>\n",
              "      <td>Chairs</td>\n",
              "      <td>328449.103</td>\n",
              "    </tr>\n",
              "    <tr>\n",
              "      <th>2</th>\n",
              "      <td>Storage</td>\n",
              "      <td>223843.608</td>\n",
              "    </tr>\n",
              "    <tr>\n",
              "      <th>3</th>\n",
              "      <td>Tables</td>\n",
              "      <td>206965.532</td>\n",
              "    </tr>\n",
              "    <tr>\n",
              "      <th>4</th>\n",
              "      <td>Binders</td>\n",
              "      <td>203412.733</td>\n",
              "    </tr>\n",
              "  </tbody>\n",
              "</table>\n",
              "</div>"
            ],
            "text/plain": [
              "  Sub-Category       Sales\n",
              "0       Phones  330007.054\n",
              "1       Chairs  328449.103\n",
              "2      Storage  223843.608\n",
              "3       Tables  206965.532\n",
              "4      Binders  203412.733"
            ]
          },
          "metadata": {
            "tags": []
          },
          "execution_count": 24
        }
      ]
    },
    {
      "cell_type": "code",
      "metadata": {
        "id": "WkaPLrpKz6r3",
        "outputId": "3dccf76f-0e40-41bd-87bb-8c4b8a1d8e86",
        "colab": {
          "base_uri": "https://localhost:8080/",
          "height": 513
        }
      },
      "source": [
        "sns.catplot('Sub-Category','Sales',data=df5_3,kind='bar',palette='coolwarm')\n",
        "plt.title('Top 5 Products with High Sales',size=15)\n",
        "plt.xticks(size=13, rotation=45)\n",
        "plt.yticks(size=13)\n",
        "plt.ylabel('Sales',size=15)\n",
        "plt.xlabel('City',size=15)"
      ],
      "execution_count": 30,
      "outputs": [
        {
          "output_type": "stream",
          "text": [
            "/usr/local/lib/python3.6/dist-packages/seaborn/_decorators.py:43: FutureWarning: Pass the following variables as keyword args: x, y. From version 0.12, the only valid positional argument will be `data`, and passing other arguments without an explicit keyword will result in an error or misinterpretation.\n",
            "  FutureWarning\n"
          ],
          "name": "stderr"
        },
        {
          "output_type": "execute_result",
          "data": {
            "text/plain": [
              "Text(0.5, 6.79999999999999, 'City')"
            ]
          },
          "metadata": {
            "tags": []
          },
          "execution_count": 30
        },
        {
          "output_type": "display_data",
          "data": {
            "image/png": "[encoded data removed]",
            "text/plain": [
              "<Figure size 360x360 with 1 Axes>"
            ]
          },
          "metadata": {
            "tags": [],
            "needs_background": "light"
          }
        }
      ]
    },
    {
      "cell_type": "markdown",
      "metadata": {
        "id": "NBrWoqSUjEZ3"
      },
      "source": [
        "### d) Top 5 City with High Sales "
      ]
    },
    {
      "cell_type": "code",
      "metadata": {
        "id": "SdESNlNrQG6E",
        "outputId": "de5a50cf-785f-41d7-8200-7e20b4663828",
        "colab": {
          "base_uri": "https://localhost:8080/",
          "height": 204
        }
      },
      "source": [
        "df5_4 = store_data.groupby('City')['Sales'].sum().reset_index().sort_values(by='Sales',ascending=False)\n",
        "df5_4.reset_index(drop=True,inplace=True)\n",
        "df5_4=df5_4.head(5)\n",
        "df5_4"
      ],
      "execution_count": 26,
      "outputs": [
        {
          "output_type": "execute_result",
          "data": {
            "text/html": [
              "<div>\n",
              "<style scoped>\n",
              "    .dataframe tbody tr th:only-of-type {\n",
              "        vertical-align: middle;\n",
              "    }\n",
              "\n",
              "    .dataframe tbody tr th {\n",
              "        vertical-align: top;\n",
              "    }\n",
              "\n",
              "    .dataframe thead th {\n",
              "        text-align: right;\n",
              "    }\n",
              "</style>\n",
              "<table border=\"1\" class=\"dataframe\">\n",
              "  <thead>\n",
              "    <tr style=\"text-align: right;\">\n",
              "      <th></th>\n",
              "      <th>City</th>\n",
              "      <th>Sales</th>\n",
              "    </tr>\n",
              "  </thead>\n",
              "  <tbody>\n",
              "    <tr>\n",
              "      <th>0</th>\n",
              "      <td>New York City</td>\n",
              "      <td>256368.161</td>\n",
              "    </tr>\n",
              "    <tr>\n",
              "      <th>1</th>\n",
              "      <td>Los Angeles</td>\n",
              "      <td>175851.341</td>\n",
              "    </tr>\n",
              "    <tr>\n",
              "      <th>2</th>\n",
              "      <td>Seattle</td>\n",
              "      <td>119540.742</td>\n",
              "    </tr>\n",
              "    <tr>\n",
              "      <th>3</th>\n",
              "      <td>San Francisco</td>\n",
              "      <td>112669.092</td>\n",
              "    </tr>\n",
              "    <tr>\n",
              "      <th>4</th>\n",
              "      <td>Philadelphia</td>\n",
              "      <td>109077.013</td>\n",
              "    </tr>\n",
              "  </tbody>\n",
              "</table>\n",
              "</div>"
            ],
            "text/plain": [
              "            City       Sales\n",
              "0  New York City  256368.161\n",
              "1    Los Angeles  175851.341\n",
              "2        Seattle  119540.742\n",
              "3  San Francisco  112669.092\n",
              "4   Philadelphia  109077.013"
            ]
          },
          "metadata": {
            "tags": []
          },
          "execution_count": 26
        }
      ]
    },
    {
      "cell_type": "code",
      "metadata": {
        "id": "b0JXRpBkysPc",
        "outputId": "f32436b1-9224-43b9-94e2-eb82adb4b079",
        "colab": {
          "base_uri": "https://localhost:8080/",
          "height": 540
        }
      },
      "source": [
        "sns.catplot('City','Sales',data=df5_4,kind='bar',palette='coolwarm')\n",
        "plt.title('Top 5 cities with High Sales',size=15)\n",
        "plt.xticks(size=13, rotation=45)\n",
        "plt.yticks(size=13)\n",
        "plt.ylabel('Sales',size=15)\n",
        "plt.xlabel('City',size=15)"
      ],
      "execution_count": 32,
      "outputs": [
        {
          "output_type": "stream",
          "text": [
            "/usr/local/lib/python3.6/dist-packages/seaborn/_decorators.py:43: FutureWarning: Pass the following variables as keyword args: x, y. From version 0.12, the only valid positional argument will be `data`, and passing other arguments without an explicit keyword will result in an error or misinterpretation.\n",
            "  FutureWarning\n"
          ],
          "name": "stderr"
        },
        {
          "output_type": "execute_result",
          "data": {
            "text/plain": [
              "Text(0.5, 6.79999999999999, 'City')"
            ]
          },
          "metadata": {
            "tags": []
          },
          "execution_count": 32
        },
        {
          "output_type": "display_data",
          "data": {
            "image/png": "[encoded data removed]",
            "text/plain": [
              "<Figure size 360x360 with 1 Axes>"
            ]
          },
          "metadata": {
            "tags": [],
            "needs_background": "light"
          }
        }
      ]
    },
    {
      "cell_type": "markdown",
      "metadata": {
        "id": "5miexsPg3ygz"
      },
      "source": [
        "## 3) Least 5 Products & Cities in terms of **Sales & Profit**"
      ]
    },
    {
      "cell_type": "markdown",
      "metadata": {
        "id": "EKZaSTx4jgBs"
      },
      "source": [
        "### a) 5 Products with least/negative Profit "
      ]
    },
    {
      "cell_type": "code",
      "metadata": {
        "id": "iPlMNpXY305-",
        "outputId": "998d7201-a084-4d6d-e2ec-78760a99aff9",
        "colab": {
          "base_uri": "https://localhost:8080/",
          "height": 204
        }
      },
      "source": [
        "df5_1 = store_data.groupby('Sub-Category')['Profit'].sum().reset_index().sort_values(by='Profit',ascending=True)\n",
        "df5_1.reset_index(drop=True,inplace=True)\n",
        "df5_1a=df5_1.head(5)\n",
        "df5_1a"
      ],
      "execution_count": 33,
      "outputs": [
        {
          "output_type": "execute_result",
          "data": {
            "text/html": [
              "<div>\n",
              "<style scoped>\n",
              "    .dataframe tbody tr th:only-of-type {\n",
              "        vertical-align: middle;\n",
              "    }\n",
              "\n",
              "    .dataframe tbody tr th {\n",
              "        vertical-align: top;\n",
              "    }\n",
              "\n",
              "    .dataframe thead th {\n",
              "        text-align: right;\n",
              "    }\n",
              "</style>\n",
              "<table border=\"1\" class=\"dataframe\">\n",
              "  <thead>\n",
              "    <tr style=\"text-align: right;\">\n",
              "      <th></th>\n",
              "      <th>Sub-Category</th>\n",
              "      <th>Profit</th>\n",
              "    </tr>\n",
              "  </thead>\n",
              "  <tbody>\n",
              "    <tr>\n",
              "      <th>0</th>\n",
              "      <td>Tables</td>\n",
              "      <td>-17725.4811</td>\n",
              "    </tr>\n",
              "    <tr>\n",
              "      <th>1</th>\n",
              "      <td>Bookcases</td>\n",
              "      <td>-3472.5560</td>\n",
              "    </tr>\n",
              "    <tr>\n",
              "      <th>2</th>\n",
              "      <td>Supplies</td>\n",
              "      <td>-1189.0995</td>\n",
              "    </tr>\n",
              "    <tr>\n",
              "      <th>3</th>\n",
              "      <td>Fasteners</td>\n",
              "      <td>949.5182</td>\n",
              "    </tr>\n",
              "    <tr>\n",
              "      <th>4</th>\n",
              "      <td>Machines</td>\n",
              "      <td>3384.7569</td>\n",
              "    </tr>\n",
              "  </tbody>\n",
              "</table>\n",
              "</div>"
            ],
            "text/plain": [
              "  Sub-Category      Profit\n",
              "0       Tables -17725.4811\n",
              "1    Bookcases  -3472.5560\n",
              "2     Supplies  -1189.0995\n",
              "3    Fasteners    949.5182\n",
              "4     Machines   3384.7569"
            ]
          },
          "metadata": {
            "tags": []
          },
          "execution_count": 33
        }
      ]
    },
    {
      "cell_type": "code",
      "metadata": {
        "id": "WjZnmpU56UbM",
        "outputId": "cb565192-655b-4882-b864-40399d5ca8aa",
        "colab": {
          "base_uri": "https://localhost:8080/",
          "height": 542
        }
      },
      "source": [
        "plt.figure(figsize=(16,6))\n",
        "sns.catplot('Sub-Category','Profit',data=df5_1a,kind='bar',palette='copper')\n",
        "plt.title('5 Products with least/negative Profit',size=15)\n",
        "plt.xticks(size=13,rotation=45)\n",
        "plt.yticks(size=13)\n",
        "plt.ylabel('Cumulative profit',size=15)\n",
        "plt.xlabel('Products',size=15)"
      ],
      "execution_count": 35,
      "outputs": [
        {
          "output_type": "stream",
          "text": [
            "/usr/local/lib/python3.6/dist-packages/seaborn/_decorators.py:43: FutureWarning: Pass the following variables as keyword args: x, y. From version 0.12, the only valid positional argument will be `data`, and passing other arguments without an explicit keyword will result in an error or misinterpretation.\n",
            "  FutureWarning\n"
          ],
          "name": "stderr"
        },
        {
          "output_type": "execute_result",
          "data": {
            "text/plain": [
              "Text(0.5, 6.79999999999999, 'Products')"
            ]
          },
          "metadata": {
            "tags": []
          },
          "execution_count": 35
        },
        {
          "output_type": "display_data",
          "data": {
            "text/plain": [
              "<Figure size 1152x432 with 0 Axes>"
            ]
          },
          "metadata": {
            "tags": []
          }
        },
        {
          "output_type": "display_data",
          "data": {
            "image/png": "[encoded data removed]",
            "text/plain": [
              "<Figure size 360x360 with 1 Axes>"
            ]
          },
          "metadata": {
            "tags": [],
            "needs_background": "light"
          }
        }
      ]
    },
    {
      "cell_type": "markdown",
      "metadata": {
        "id": "vAhoFbiSjzFV"
      },
      "source": [
        "### b) 5 Cities with least/negative Profit "
      ]
    },
    {
      "cell_type": "code",
      "metadata": {
        "id": "M3F8jwa-6yCH",
        "outputId": "b43a1134-a79b-4040-d8e8-0e087f398094",
        "colab": {
          "base_uri": "https://localhost:8080/",
          "height": 204
        }
      },
      "source": [
        "df5_2 = store_data.groupby('City')['Profit'].sum().reset_index().sort_values(by='Profit',ascending=True)\n",
        "df5_2.reset_index(drop=True,inplace=True)\n",
        "df5_2a=df5_2.head(5)\n",
        "df5_2a"
      ],
      "execution_count": 36,
      "outputs": [
        {
          "output_type": "execute_result",
          "data": {
            "text/html": [
              "<div>\n",
              "<style scoped>\n",
              "    .dataframe tbody tr th:only-of-type {\n",
              "        vertical-align: middle;\n",
              "    }\n",
              "\n",
              "    .dataframe tbody tr th {\n",
              "        vertical-align: top;\n",
              "    }\n",
              "\n",
              "    .dataframe thead th {\n",
              "        text-align: right;\n",
              "    }\n",
              "</style>\n",
              "<table border=\"1\" class=\"dataframe\">\n",
              "  <thead>\n",
              "    <tr style=\"text-align: right;\">\n",
              "      <th></th>\n",
              "      <th>City</th>\n",
              "      <th>Profit</th>\n",
              "    </tr>\n",
              "  </thead>\n",
              "  <tbody>\n",
              "    <tr>\n",
              "      <th>0</th>\n",
              "      <td>Philadelphia</td>\n",
              "      <td>-13837.7674</td>\n",
              "    </tr>\n",
              "    <tr>\n",
              "      <th>1</th>\n",
              "      <td>Houston</td>\n",
              "      <td>-10153.5485</td>\n",
              "    </tr>\n",
              "    <tr>\n",
              "      <th>2</th>\n",
              "      <td>San Antonio</td>\n",
              "      <td>-7299.0502</td>\n",
              "    </tr>\n",
              "    <tr>\n",
              "      <th>3</th>\n",
              "      <td>Lancaster</td>\n",
              "      <td>-7239.0684</td>\n",
              "    </tr>\n",
              "    <tr>\n",
              "      <th>4</th>\n",
              "      <td>Chicago</td>\n",
              "      <td>-6654.5688</td>\n",
              "    </tr>\n",
              "  </tbody>\n",
              "</table>\n",
              "</div>"
            ],
            "text/plain": [
              "           City      Profit\n",
              "0  Philadelphia -13837.7674\n",
              "1       Houston -10153.5485\n",
              "2   San Antonio  -7299.0502\n",
              "3     Lancaster  -7239.0684\n",
              "4       Chicago  -6654.5688"
            ]
          },
          "metadata": {
            "tags": []
          },
          "execution_count": 36
        }
      ]
    },
    {
      "cell_type": "code",
      "metadata": {
        "id": "YkYcb6Yi7ASl",
        "outputId": "d2674c05-ef02-45c6-e14e-30bd79404501",
        "colab": {
          "base_uri": "https://localhost:8080/",
          "height": 529
        }
      },
      "source": [
        "sns.catplot('City','Profit',data=df5_2a,kind='bar',palette='copper')\n",
        "plt.title('5 Cities with least/negative Profit',size=15)\n",
        "plt.xticks(size=13, rotation=45)\n",
        "plt.yticks(size=13)\n",
        "plt.ylabel('Cumulative profit',size=15)\n",
        "plt.xlabel('City',size=15)"
      ],
      "execution_count": 37,
      "outputs": [
        {
          "output_type": "stream",
          "text": [
            "/usr/local/lib/python3.6/dist-packages/seaborn/_decorators.py:43: FutureWarning: Pass the following variables as keyword args: x, y. From version 0.12, the only valid positional argument will be `data`, and passing other arguments without an explicit keyword will result in an error or misinterpretation.\n",
            "  FutureWarning\n"
          ],
          "name": "stderr"
        },
        {
          "output_type": "execute_result",
          "data": {
            "text/plain": [
              "Text(0.5, 6.79999999999999, 'City')"
            ]
          },
          "metadata": {
            "tags": []
          },
          "execution_count": 37
        },
        {
          "output_type": "display_data",
          "data": {
            "image/png": "[encoded data removed]",
            "text/plain": [
              "<Figure size 360x360 with 1 Axes>"
            ]
          },
          "metadata": {
            "tags": [],
            "needs_background": "light"
          }
        }
      ]
    },
    {
      "cell_type": "markdown",
      "metadata": {
        "id": "Tvoei221kBpf"
      },
      "source": [
        "### c) 5 Products with least/negative Sales"
      ]
    },
    {
      "cell_type": "code",
      "metadata": {
        "id": "BnXkchVF8DXu",
        "outputId": "14c98411-7b73-42ef-eb3e-90763425ca3f",
        "colab": {
          "base_uri": "https://localhost:8080/",
          "height": 204
        }
      },
      "source": [
        "df5_3 = store_data.groupby(\"Sub-Category\")[\"Sales\"].sum().reset_index().sort_values(by=\"Sales\",ascending=True)\n",
        "df5_3.reset_index(drop=True,inplace=True)\n",
        "df5_3a=df5_3.head(5)\n",
        "df5_3a"
      ],
      "execution_count": 39,
      "outputs": [
        {
          "output_type": "execute_result",
          "data": {
            "text/html": [
              "<div>\n",
              "<style scoped>\n",
              "    .dataframe tbody tr th:only-of-type {\n",
              "        vertical-align: middle;\n",
              "    }\n",
              "\n",
              "    .dataframe tbody tr th {\n",
              "        vertical-align: top;\n",
              "    }\n",
              "\n",
              "    .dataframe thead th {\n",
              "        text-align: right;\n",
              "    }\n",
              "</style>\n",
              "<table border=\"1\" class=\"dataframe\">\n",
              "  <thead>\n",
              "    <tr style=\"text-align: right;\">\n",
              "      <th></th>\n",
              "      <th>Sub-Category</th>\n",
              "      <th>Sales</th>\n",
              "    </tr>\n",
              "  </thead>\n",
              "  <tbody>\n",
              "    <tr>\n",
              "      <th>0</th>\n",
              "      <td>Fasteners</td>\n",
              "      <td>3024.280</td>\n",
              "    </tr>\n",
              "    <tr>\n",
              "      <th>1</th>\n",
              "      <td>Labels</td>\n",
              "      <td>12486.312</td>\n",
              "    </tr>\n",
              "    <tr>\n",
              "      <th>2</th>\n",
              "      <td>Envelopes</td>\n",
              "      <td>16476.402</td>\n",
              "    </tr>\n",
              "    <tr>\n",
              "      <th>3</th>\n",
              "      <td>Art</td>\n",
              "      <td>27118.792</td>\n",
              "    </tr>\n",
              "    <tr>\n",
              "      <th>4</th>\n",
              "      <td>Supplies</td>\n",
              "      <td>46673.538</td>\n",
              "    </tr>\n",
              "  </tbody>\n",
              "</table>\n",
              "</div>"
            ],
            "text/plain": [
              "  Sub-Category      Sales\n",
              "0    Fasteners   3024.280\n",
              "1       Labels  12486.312\n",
              "2    Envelopes  16476.402\n",
              "3          Art  27118.792\n",
              "4     Supplies  46673.538"
            ]
          },
          "metadata": {
            "tags": []
          },
          "execution_count": 39
        }
      ]
    },
    {
      "cell_type": "code",
      "metadata": {
        "id": "fOJrMSyD8Taj",
        "outputId": "17caf675-8732-4fe1-f981-9da5e5f0b3f9",
        "colab": {
          "base_uri": "https://localhost:8080/",
          "height": 524
        }
      },
      "source": [
        "sns.catplot('Sub-Category','Sales',data=df5_3a,kind='bar',palette='copper')\n",
        "plt.title('5 Products with Low Sales',size=15)\n",
        "plt.xticks(size=13, rotation=45)\n",
        "plt.yticks(size=13)\n",
        "plt.ylabel('Sales',size=15)\n",
        "plt.xlabel('City',size=15)"
      ],
      "execution_count": 44,
      "outputs": [
        {
          "output_type": "stream",
          "text": [
            "/usr/local/lib/python3.6/dist-packages/seaborn/_decorators.py:43: FutureWarning: Pass the following variables as keyword args: x, y. From version 0.12, the only valid positional argument will be `data`, and passing other arguments without an explicit keyword will result in an error or misinterpretation.\n",
            "  FutureWarning\n"
          ],
          "name": "stderr"
        },
        {
          "output_type": "execute_result",
          "data": {
            "text/plain": [
              "Text(0.5, 6.79999999999999, 'City')"
            ]
          },
          "metadata": {
            "tags": []
          },
          "execution_count": 44
        },
        {
          "output_type": "display_data",
          "data": {
            "image/png": "[encoded data removed]",
            "text/plain": [
              "<Figure size 360x360 with 1 Axes>"
            ]
          },
          "metadata": {
            "tags": [],
            "needs_background": "light"
          }
        }
      ]
    },
    {
      "cell_type": "markdown",
      "metadata": {
        "id": "1-EmnRZYkffH"
      },
      "source": [
        "### d) 5 Cities with least/negative Sales "
      ]
    },
    {
      "cell_type": "code",
      "metadata": {
        "id": "-VbYVPpM7XU7",
        "outputId": "f46e9bfb-b0ea-462b-9c8f-aa75be0e156c",
        "colab": {
          "base_uri": "https://localhost:8080/",
          "height": 204
        }
      },
      "source": [
        "df5_4 = store_data.groupby('City')['Sales'].sum().reset_index().sort_values(by='Sales',ascending=True)\n",
        "df5_4.reset_index(drop=True,inplace=True)\n",
        "df5_4a=df5_4.head(5)\n",
        "df5_4a"
      ],
      "execution_count": 45,
      "outputs": [
        {
          "output_type": "execute_result",
          "data": {
            "text/html": [
              "<div>\n",
              "<style scoped>\n",
              "    .dataframe tbody tr th:only-of-type {\n",
              "        vertical-align: middle;\n",
              "    }\n",
              "\n",
              "    .dataframe tbody tr th {\n",
              "        vertical-align: top;\n",
              "    }\n",
              "\n",
              "    .dataframe thead th {\n",
              "        text-align: right;\n",
              "    }\n",
              "</style>\n",
              "<table border=\"1\" class=\"dataframe\">\n",
              "  <thead>\n",
              "    <tr style=\"text-align: right;\">\n",
              "      <th></th>\n",
              "      <th>City</th>\n",
              "      <th>Sales</th>\n",
              "    </tr>\n",
              "  </thead>\n",
              "  <tbody>\n",
              "    <tr>\n",
              "      <th>0</th>\n",
              "      <td>Abilene</td>\n",
              "      <td>1.392</td>\n",
              "    </tr>\n",
              "    <tr>\n",
              "      <th>1</th>\n",
              "      <td>Elyria</td>\n",
              "      <td>1.824</td>\n",
              "    </tr>\n",
              "    <tr>\n",
              "      <th>2</th>\n",
              "      <td>Jupiter</td>\n",
              "      <td>2.064</td>\n",
              "    </tr>\n",
              "    <tr>\n",
              "      <th>3</th>\n",
              "      <td>Pensacola</td>\n",
              "      <td>2.214</td>\n",
              "    </tr>\n",
              "    <tr>\n",
              "      <th>4</th>\n",
              "      <td>Ormond Beach</td>\n",
              "      <td>2.808</td>\n",
              "    </tr>\n",
              "  </tbody>\n",
              "</table>\n",
              "</div>"
            ],
            "text/plain": [
              "           City  Sales\n",
              "0       Abilene  1.392\n",
              "1        Elyria  1.824\n",
              "2       Jupiter  2.064\n",
              "3     Pensacola  2.214\n",
              "4  Ormond Beach  2.808"
            ]
          },
          "metadata": {
            "tags": []
          },
          "execution_count": 45
        }
      ]
    },
    {
      "cell_type": "code",
      "metadata": {
        "id": "b4FFOEdG7wH-",
        "outputId": "8cb268d7-4df1-4385-c647-65034af4932a",
        "colab": {
          "base_uri": "https://localhost:8080/",
          "height": 545
        }
      },
      "source": [
        "sns.catplot('City','Sales',data=df5_4a,kind='bar',palette='copper')\n",
        "plt.title('5 Cities with Low Sales',size=15)\n",
        "plt.xticks(size=13, rotation=45)\n",
        "plt.yticks(size=13)\n",
        "plt.ylabel('Sales',size=15)\n",
        "plt.xlabel('City',size=15)"
      ],
      "execution_count": 48,
      "outputs": [
        {
          "output_type": "stream",
          "text": [
            "/usr/local/lib/python3.6/dist-packages/seaborn/_decorators.py:43: FutureWarning: Pass the following variables as keyword args: x, y. From version 0.12, the only valid positional argument will be `data`, and passing other arguments without an explicit keyword will result in an error or misinterpretation.\n",
            "  FutureWarning\n"
          ],
          "name": "stderr"
        },
        {
          "output_type": "execute_result",
          "data": {
            "text/plain": [
              "Text(0.5, 6.79999999999999, 'City')"
            ]
          },
          "metadata": {
            "tags": []
          },
          "execution_count": 48
        },
        {
          "output_type": "display_data",
          "data": {
            "image/png": "[encoded data removed]",
            "text/plain": [
              "<Figure size 360x360 with 1 Axes>"
            ]
          },
          "metadata": {
            "tags": [],
            "needs_background": "light"
          }
        }
      ]
    }
  ]
}